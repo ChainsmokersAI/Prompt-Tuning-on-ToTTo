{
 "cells": [
  {
   "cell_type": "code",
   "execution_count": 1,
   "id": "9194401c",
   "metadata": {},
   "outputs": [],
   "source": [
    "import json\n",
    "import os\n",
    "\n",
    "import torch\n",
    "from torch.utils.data import Dataset, DataLoader\n",
    "\n",
    "from transformers import T5Tokenizer\n",
    "\n",
    "from preprocess_utils import get_highlighted_subtable, linearize_subtable"
   ]
  },
  {
   "cell_type": "code",
   "execution_count": 2,
   "id": "041f1dd2",
   "metadata": {},
   "outputs": [],
   "source": [
    "device=torch.device('cuda:2')\n",
    "batch_size=24 # 10 for 't5-large'"
   ]
  },
  {
   "cell_type": "code",
   "execution_count": 3,
   "id": "9a0ce15f",
   "metadata": {},
   "outputs": [
    {
     "data": {
      "text/plain": [
       "12"
      ]
     },
     "execution_count": 3,
     "metadata": {},
     "output_type": "execute_result"
    }
   ],
   "source": [
    "# Pre-Trained T5 Tokenizer\n",
    "tokenizer=T5Tokenizer.from_pretrained('t5-base')\n",
    "# Add Special Tokens: Table Tags\n",
    "tokenizer.add_special_tokens({\n",
    "    'additional_special_tokens': [\n",
    "        '<page_title>',\n",
    "        '</page_title>',\n",
    "        '<section_title>',\n",
    "        '</section_title>',\n",
    "        '<table>',\n",
    "        '</table>',\n",
    "        '<cell>',\n",
    "        '</cell>',\n",
    "        '<col_header>',\n",
    "        '</col_header>',\n",
    "        '<row_header>',\n",
    "        '</row_header>'\n",
    "    ]\n",
    "})"
   ]
  },
  {
   "cell_type": "code",
   "execution_count": 4,
   "id": "11ee6b6c",
   "metadata": {},
   "outputs": [],
   "source": [
    "class ToTToDataset(Dataset):\n",
    "    \"\"\"\n",
    "    For Evaluation (Dev Set)\n",
    "    \"\"\"\n",
    "    def __init__(self, path_data, tokenizer):\n",
    "        #\n",
    "        self.data=[]\n",
    "        \n",
    "        # Load Dataset\n",
    "        with open(path_data, 'r') as f:\n",
    "            dataset=f.read().splitlines()\n",
    "            f.close()\n",
    "            \n",
    "        for _data in dataset:\n",
    "            data=json.loads(_data)\n",
    "            \n",
    "            # Preprocess\n",
    "            subtable=get_highlighted_subtable(table=data['table'], cell_indices=data['highlighted_cells'], with_heuristic_headers=True)\n",
    "            cells_linearized=linearize_subtable(\n",
    "                subtable=subtable,\n",
    "                table_page_title=data['table_page_title'],\n",
    "                table_section_title=data['table_section_title']\n",
    "            )\n",
    "            \n",
    "            # Encode\n",
    "            encoded=tokenizer.encode(cells_linearized)\n",
    "            if len(encoded)>512:\n",
    "                # Truncate\n",
    "                encoded=encoded[:511]+[tokenizer.eos_token_id]\n",
    "            self.data.append(encoded)\n",
    "            \n",
    "        print(len(self.data), 'datas')\n",
    "        \n",
    "    def __getitem__(self, idx):\n",
    "        return self.data[idx]\n",
    "        \n",
    "    def __len__(self):\n",
    "        return len(self.data)"
   ]
  },
  {
   "cell_type": "code",
   "execution_count": 5,
   "id": "4bb06d36",
   "metadata": {},
   "outputs": [],
   "source": [
    "def collate_fn(batch):\n",
    "    \"\"\"\n",
    "    Same Sequence Length on Same Batch\n",
    "    \"\"\"\n",
    "    max_len_data=0\n",
    "    for data in batch:\n",
    "        if len(data)>max_len_data: max_len_data=len(data)\n",
    "            \n",
    "    datas=[]\n",
    "    attn_masks=[]\n",
    "    for data in batch:\n",
    "        data.extend([tokenizer.pad_token_id]*(max_len_data-len(data)))\n",
    "        datas.append(data)\n",
    "        \n",
    "        attn_mask=[int(e!=tokenizer.pad_token_id) for e in data]\n",
    "        attn_masks.append(attn_mask)\n",
    "        \n",
    "    return torch.tensor(datas), torch.tensor(attn_masks)"
   ]
  },
  {
   "cell_type": "code",
   "execution_count": 6,
   "id": "bf1b8c3c",
   "metadata": {},
   "outputs": [
    {
     "name": "stderr",
     "output_type": "stream",
     "text": [
      "Token indices sequence length is longer than the specified maximum sequence length for this model (1344 > 512). Running this sequence through the model will result in indexing errors\n"
     ]
    },
    {
     "name": "stdout",
     "output_type": "stream",
     "text": [
      "7700 datas\n"
     ]
    }
   ],
   "source": [
    "dataset_dev=ToTToDataset(path_data='../totto_data/totto_dev_data.jsonl', tokenizer=tokenizer)\n",
    "dataloader_dev=DataLoader(dataset_dev, batch_size=batch_size, shuffle=False, collate_fn=collate_fn)"
   ]
  },
  {
   "cell_type": "code",
   "execution_count": 7,
   "id": "bbd6faf7",
   "metadata": {
    "scrolled": true
   },
   "outputs": [
    {
     "name": "stdout",
     "output_type": "stream",
     "text": [
      "2400 generated\n",
      "4800 generated\n",
      "7200 generated\n"
     ]
    }
   ],
   "source": [
    "# Trained Model\n",
    "model=torch.load('../model/T5-base_Fine-Tuning_lr0.0001_batch24_epoch9of10.pt')\n",
    "model=model.to(device)\n",
    "model.eval()\n",
    "\n",
    "# Generation\n",
    "if os.path.exists('../totto_data/generation_dev.txt'):\n",
    "    os.remove('../totto_data/generation_dev.txt')\n",
    "f=open('../totto_data/generation_dev.txt', 'a')\n",
    "\n",
    "with torch.no_grad():\n",
    "    for idx, (data, attn_mask) in enumerate(dataloader_dev):\n",
    "        if (idx+1)%100==0: print(batch_size*(idx+1), 'generated')\n",
    "            \n",
    "        data=data.to(device)\n",
    "        attn_mask=attn_mask.to(device)\n",
    "        \n",
    "        # Beam Search\n",
    "        outputs=model.generate(\n",
    "            data,\n",
    "            max_length=300,\n",
    "            num_beams=5,\n",
    "            early_stopping=True\n",
    "        )\n",
    "        \n",
    "        for generation in tokenizer.batch_decode(outputs, skip_special_tokens=True):\n",
    "            f.write(generation+'\\n')\n",
    "            \n",
    "f.close()"
   ]
  },
  {
   "cell_type": "code",
   "execution_count": 8,
   "id": "c9d40fd7",
   "metadata": {
    "scrolled": false
   },
   "outputs": [
    {
     "name": "stdout",
     "output_type": "stream",
     "text": [
      "Running with the following variables:\n",
      "PREDICTION_PATH   : ../totto_data/generation_dev.txt\n",
      "TARGET_PATH       : ../totto_data/totto_dev_data.jsonl \n",
      "BLEURT_CKPT       : unset \n",
      "OUTPUT_DIR        : temp\n",
      "MODE              : test\n",
      "Writing references.\n",
      "Writing tables in PARENT format.\n",
      "Preparing predictions.\n",
      "Writing predictions.\n",
      "Running detokenizers.\n",
      "======== EVALUATE OVERALL ========\n",
      "Computing BLEU (overall)\n",
      "BLEU+case.mixed+numrefs.3+smooth.exp+tok.13a+version.1.5.1 = 48.8 78.4/55.9/43.0/34.1 (BP = 0.970 ratio = 0.971 hyp_len = 125969 ref_len = 129793)\n",
      "Computing PARENT (overall)\n",
      "Evaluated 7700 examples.\n",
      "Precision = 81.09 Recall = 50.54 F-score = 58.50\n",
      "======== EVALUATE OVERLAP SUBSET ========\n",
      "Computing BLEU (overlap subset)\n",
      "BLEU+case.mixed+numrefs.3+smooth.exp+tok.13a+version.1.5.1 = 56.5 82.3/62.9/51.3/42.7 (BP = 0.973 ratio = 0.974 hyp_len = 61204 ref_len = 62867)\n",
      "Computing PARENT (overlap subset)\n",
      "Evaluated 3784 examples.\n",
      "Precision = 83.20 Recall = 54.42 F-score = 62.43\n",
      "======== EVALUATE NON-OVERLAP SUBSET ========\n",
      "Computing BLEU (non-overlap subset)\n",
      "BLEU+case.mixed+numrefs.3+smooth.exp+tok.13a+version.1.5.1 = 41.4 74.7/49.3/35.1/26.0 (BP = 0.967 ratio = 0.968 hyp_len = 64765 ref_len = 66926)\n",
      "Computing PARENT (non-overlap subset)\n",
      "Evaluated 3916 examples.\n",
      "Precision = 79.04 Recall = 46.79 F-score = 54.71\n"
     ]
    }
   ],
   "source": [
    "# Evaluation\n",
    "!cd ../language_repo/ && bash language/totto/totto_eval.sh --prediction_path ../totto_data/generation_dev.txt --target_path ../totto_data/totto_dev_data.jsonl"
   ]
  },
  {
   "cell_type": "code",
   "execution_count": null,
   "id": "f3a00795",
   "metadata": {},
   "outputs": [],
   "source": []
  }
 ],
 "metadata": {
  "kernelspec": {
   "display_name": "Python 3 (ipykernel)",
   "language": "python",
   "name": "python3"
  },
  "language_info": {
   "codemirror_mode": {
    "name": "ipython",
    "version": 3
   },
   "file_extension": ".py",
   "mimetype": "text/x-python",
   "name": "python",
   "nbconvert_exporter": "python",
   "pygments_lexer": "ipython3",
   "version": "3.7.11"
  }
 },
 "nbformat": 4,
 "nbformat_minor": 5
}
