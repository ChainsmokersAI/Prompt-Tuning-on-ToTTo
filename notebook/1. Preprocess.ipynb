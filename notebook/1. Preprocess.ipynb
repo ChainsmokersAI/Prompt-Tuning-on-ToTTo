{
 "cells": [
  {
   "cell_type": "code",
   "execution_count": 1,
   "id": "bbc472dc",
   "metadata": {},
   "outputs": [
    {
     "data": {
      "text/plain": [
       "120761"
      ]
     },
     "execution_count": 1,
     "metadata": {},
     "output_type": "execute_result"
    }
   ],
   "source": [
    "# Load Train Set\n",
    "with open('../totto_data/totto_train_data.jsonl', 'r') as f:\n",
    "    data_train=f.read().splitlines()\n",
    "    f.close()\n",
    "    \n",
    "# Number of Train Data\n",
    "len(data_train)"
   ]
  },
  {
   "cell_type": "code",
   "execution_count": 2,
   "id": "2ebfe2ed",
   "metadata": {},
   "outputs": [
    {
     "name": "stdout",
     "output_type": "stream",
     "text": [
      "$ table_webpage_url \n",
      " http://en.wikipedia.org/wiki/Swimming_at_the_2012_Summer_Olympics_%E2%80%93_Men's_100_metre_backstroke\n",
      "$ table_page_title \n",
      " Swimming at the 2012 Summer Olympics – Men's 100 metre backstroke\n",
      "$ table_section_title \n",
      " Final\n",
      "$ table_section_text \n",
      " \n",
      "$ highlighted_cells \n",
      " [[4, 0], [4, 2], [4, 4]]\n",
      "$ example_id \n",
      " -2235792344822110317\n",
      "$ sentence_annotations \n",
      " [{'original_sentence': 'Leading the race early on the initial length, Lacourt dropped off the podium to a fourth-place time in 53.08.', 'sentence_after_deletion': 'Lacourt dropped to a fourth-place time in 53.08.', 'sentence_after_ambiguity': 'Lacourt was dropped to a fourth-place time in 53.08.', 'final_sentence': 'Lacourt was dropped to a fourth-place time in 53.08.'}]\n"
     ]
    }
   ],
   "source": [
    "import json\n",
    "\n",
    "# Sample Data\n",
    "data_sample=json.loads(data_train[-1])\n",
    "\n",
    "# Key-Value Set\n",
    "for key, value in data_sample.items():\n",
    "    if key=='table': continue\n",
    "        \n",
    "    print('$', key, '\\n', value)"
   ]
  },
  {
   "cell_type": "code",
   "execution_count": 3,
   "id": "73a193a4",
   "metadata": {},
   "outputs": [
    {
     "name": "stdout",
     "output_type": "stream",
     "text": [
      "$ Highlighted Cells\n",
      "{'value': '4', 'is_header': False, 'column_span': 1, 'row_span': 1}\n",
      "{'value': 'Camille Lacourt', 'is_header': False, 'column_span': 1, 'row_span': 1}\n",
      "{'value': '53.08', 'is_header': False, 'column_span': 1, 'row_span': 1}\n",
      "\n",
      "$ Linearized (Preprocessed) Cells\n",
      "<page_title> Swimming at the 2012 Summer Olympics – Men's 100 metre backstroke </page_title> <section_title> Final </section_title> <table> <cell> 4 <col_header> Rank </col_header> </cell> <cell> Camille Lacourt <col_header> Name </col_header> </cell> <cell> 53.08 <col_header> Time </col_header> </cell> </table>\n",
      "\n",
      "$ Final (Label) Sentence\n",
      "Lacourt was dropped to a fourth-place time in 53.08.\n"
     ]
    }
   ],
   "source": [
    "# Google's Official Preprocess Codes\n",
    "# https://github.com/google-research/language/blob/master/language/totto/baseline_preprocessing/preprocess_utils.py\n",
    "from preprocess_utils import get_highlighted_subtable, linearize_subtable\n",
    "\n",
    "print('$', 'Highlighted Cells')\n",
    "for (index_row, index_col) in data_sample['highlighted_cells']:\n",
    "    print(data_sample['table'][index_row][index_col])\n",
    "    \n",
    "print('\\n$', 'Linearized (Preprocessed) Cells')\n",
    "subtable=get_highlighted_subtable(table=data_sample['table'], cell_indices=data_sample['highlighted_cells'], with_heuristic_headers=True)\n",
    "cells_linearized=linearize_subtable(\n",
    "    subtable=subtable,\n",
    "    table_page_title=data_sample['table_page_title'],\n",
    "    table_section_title=data_sample['table_section_title']\n",
    ")\n",
    "print(cells_linearized)\n",
    "\n",
    "print('\\n$', 'Final (Label) Sentence')\n",
    "for sentence in data_sample['sentence_annotations']:\n",
    "    print(sentence['final_sentence'])"
   ]
  },
  {
   "cell_type": "code",
   "execution_count": 4,
   "id": "d6b10f61",
   "metadata": {},
   "outputs": [
    {
     "data": {
      "text/plain": [
       "32100"
      ]
     },
     "execution_count": 4,
     "metadata": {},
     "output_type": "execute_result"
    }
   ],
   "source": [
    "# Prepare for Training\n",
    "from transformers import T5Tokenizer\n",
    "\n",
    "# T5 Tokenizer\n",
    "tokenizer=T5Tokenizer.from_pretrained('t5-large')\n",
    "\n",
    "# Vocab Size\n",
    "len(tokenizer)"
   ]
  },
  {
   "cell_type": "code",
   "execution_count": 5,
   "id": "ab5ed155",
   "metadata": {},
   "outputs": [
    {
     "data": {
      "text/plain": [
       "32112"
      ]
     },
     "execution_count": 5,
     "metadata": {},
     "output_type": "execute_result"
    }
   ],
   "source": [
    "# Add Special Tokens: Table Tags\n",
    "tokenizer.add_special_tokens({\n",
    "    'additional_special_tokens': [\n",
    "        '<page_title>',\n",
    "        '</page_title>',\n",
    "        '<section_title>',\n",
    "        '</section_title>',\n",
    "        '<table>',\n",
    "        '</table>',\n",
    "        '<cell>',\n",
    "        '</cell>',\n",
    "        '<col_header>',\n",
    "        '</col_header>',\n",
    "        '<row_header>',\n",
    "        '</row_header>'\n",
    "    ]\n",
    "})\n",
    "# When Training, Resize PLM's Embedding Layer\n",
    "#model.resize_token_embeddings(len(tokenizer))\n",
    "\n",
    "# Vocab Size\n",
    "len(tokenizer)"
   ]
  },
  {
   "cell_type": "code",
   "execution_count": 6,
   "id": "60aacedb",
   "metadata": {},
   "outputs": [
    {
     "name": "stdout",
     "output_type": "stream",
     "text": [
      "['<page_title>', '▁Swimming', '▁at', '▁the', '▁2012', '▁Summer', '▁Olympics', '▁', '–', '▁Men', \"'\", 's', '▁100', '▁', 'metre', '▁back', 'stroke', '</page_title>', '<section_title>', '▁Final', '</section_title>', '<table>', '<cell>', '▁4', '<col_header>', '▁', 'Rank', '</col_header>', '</cell>', '<cell>', '▁Camill', 'e', '▁La', 'court', '<col_header>', '▁Name', '</col_header>', '</cell>', '<cell>', '▁53', '.', '08', '<col_header>', '▁Time', '</col_header>', '</cell>', '</table>']\n"
     ]
    }
   ],
   "source": [
    "# Tokenize Linearized Cells\n",
    "print(tokenizer.tokenize(cells_linearized))"
   ]
  },
  {
   "cell_type": "code",
   "execution_count": null,
   "id": "ebe6cbf1",
   "metadata": {},
   "outputs": [],
   "source": []
  }
 ],
 "metadata": {
  "kernelspec": {
   "display_name": "Python 3 (ipykernel)",
   "language": "python",
   "name": "python3"
  },
  "language_info": {
   "codemirror_mode": {
    "name": "ipython",
    "version": 3
   },
   "file_extension": ".py",
   "mimetype": "text/x-python",
   "name": "python",
   "nbconvert_exporter": "python",
   "pygments_lexer": "ipython3",
   "version": "3.7.11"
  }
 },
 "nbformat": 4,
 "nbformat_minor": 5
}
