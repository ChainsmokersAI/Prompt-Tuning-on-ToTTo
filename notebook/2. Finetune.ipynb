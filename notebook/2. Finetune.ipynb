{
 "cells": [
  {
   "cell_type": "code",
   "execution_count": 1,
   "id": "3b155cb9",
   "metadata": {},
   "outputs": [],
   "source": [
    "import json\n",
    "\n",
    "import torch\n",
    "from torch.utils.data import Dataset, DataLoader\n",
    "from torch.utils.tensorboard import SummaryWriter\n",
    "\n",
    "from transformers import T5Tokenizer, T5ForConditionalGeneration, AdamW, get_linear_schedule_with_warmup\n",
    "\n",
    "# Google's Official Preprocess Codes\n",
    "# https://github.com/google-research/language/blob/master/language/totto/baseline_preprocessing/preprocess_utils.py\n",
    "from preprocess_utils import get_highlighted_subtable, linearize_subtable"
   ]
  },
  {
   "cell_type": "code",
   "execution_count": 2,
   "id": "5494ab8d",
   "metadata": {},
   "outputs": [],
   "source": [
    "# Train Config\n",
    "device=torch.device('cuda:2')\n",
    "batch_size=3\n",
    "accumulation_steps=8\n",
    "epochs=3\n",
    "lr=1e-4"
   ]
  },
  {
   "cell_type": "code",
   "execution_count": 3,
   "id": "0c805a86",
   "metadata": {},
   "outputs": [
    {
     "data": {
      "text/plain": [
       "Embedding(32112, 1024)"
      ]
     },
     "execution_count": 3,
     "metadata": {},
     "output_type": "execute_result"
    }
   ],
   "source": [
    "# Pre-Trained T5 Tokenizer\n",
    "tokenizer=T5Tokenizer.from_pretrained('t5-large')\n",
    "# Add Special Tokens: Table Tags\n",
    "tokenizer.add_special_tokens({\n",
    "    'additional_special_tokens': [\n",
    "        '<page_title>',\n",
    "        '</page_title>',\n",
    "        '<section_title>',\n",
    "        '</section_title>',\n",
    "        '<table>',\n",
    "        '</table>',\n",
    "        '<cell>',\n",
    "        '</cell>',\n",
    "        '<col_header>',\n",
    "        '</col_header>',\n",
    "        '<row_header>',\n",
    "        '</row_header>'\n",
    "    ]\n",
    "})\n",
    "# Pre-Trained T5 Model\n",
    "model=T5ForConditionalGeneration.from_pretrained('t5-large').to(device)\n",
    "# Resize PLM's Embedding Layer\n",
    "model.resize_token_embeddings(len(tokenizer))"
   ]
  },
  {
   "cell_type": "code",
   "execution_count": 4,
   "id": "64d3b902",
   "metadata": {},
   "outputs": [],
   "source": [
    "class ToTToDataset(Dataset):\n",
    "    def __init__(self, path_data, tokenizer):\n",
    "        #\n",
    "        self.data=[]\n",
    "        self.label=[]\n",
    "        \n",
    "        # Load Dataset\n",
    "        with open(path_data, 'r') as f:\n",
    "            dataset=f.read().splitlines()\n",
    "            f.close()\n",
    "            \n",
    "        for _data in dataset:\n",
    "            data=json.loads(_data)\n",
    "            \n",
    "            # Preprocess\n",
    "            subtable=get_highlighted_subtable(table=data['table'], cell_indices=data['highlighted_cells'], with_heuristic_headers=True)\n",
    "            cells_linearized=linearize_subtable(\n",
    "                subtable=subtable,\n",
    "                table_page_title=data['table_page_title'],\n",
    "                table_section_title=data['table_section_title']\n",
    "            )\n",
    "            \n",
    "            # Encode\n",
    "            encoded=tokenizer.encode(cells_linearized)\n",
    "            if len(encoded)>512:\n",
    "                # Truncate\n",
    "                encoded=encoded[:511]+[tokenizer.eos_token_id]\n",
    "            self.data.append(encoded)\n",
    "            self.label.append(tokenizer.encode(data['sentence_annotations'][0]['final_sentence']))\n",
    "            \n",
    "        print(len(self.data), 'datas')\n",
    "        print(len(self.label), 'labels')\n",
    "        \n",
    "    def __getitem__(self, idx):\n",
    "        return self.data[idx], self.label[idx]\n",
    "        \n",
    "    def __len__(self):\n",
    "        return len(self.data)"
   ]
  },
  {
   "cell_type": "code",
   "execution_count": 5,
   "id": "16d8440b",
   "metadata": {},
   "outputs": [],
   "source": [
    "def collate_fn(batch):\n",
    "    \"\"\"\n",
    "    Same Sequence Length on Same Batch\n",
    "    \"\"\"\n",
    "    max_len_data=0\n",
    "    max_len_label=0\n",
    "    for data, label in batch:\n",
    "        if len(data)>max_len_data: max_len_data=len(data)\n",
    "        if len(label)>max_len_label: max_len_label=len(label)\n",
    "            \n",
    "    datas=[]\n",
    "    attn_masks=[]\n",
    "    labels=[]\n",
    "    for data, label in batch:\n",
    "        data.extend([tokenizer.pad_token_id]*(max_len_data-len(data)))\n",
    "        datas.append(data)\n",
    "        \n",
    "        attn_mask=[int(e!=tokenizer.pad_token_id) for e in data]\n",
    "        attn_masks.append(attn_mask)\n",
    "        \n",
    "        label.extend([-100]*(max_len_label-len(label)))\n",
    "        labels.append(label)\n",
    "        \n",
    "    return torch.tensor(datas), torch.tensor(attn_masks), torch.tensor(labels)"
   ]
  },
  {
   "cell_type": "code",
   "execution_count": 6,
   "id": "dcae3470",
   "metadata": {},
   "outputs": [
    {
     "name": "stderr",
     "output_type": "stream",
     "text": [
      "Token indices sequence length is longer than the specified maximum sequence length for this model (578 > 512). Running this sequence through the model will result in indexing errors\n"
     ]
    },
    {
     "name": "stdout",
     "output_type": "stream",
     "text": [
      "120761 datas\n",
      "120761 labels\n"
     ]
    }
   ],
   "source": [
    "dataset_train=ToTToDataset(path_data='../totto_data/totto_train_data.jsonl', tokenizer=tokenizer)\n",
    "dataloader_train=DataLoader(dataset_train, batch_size=batch_size, shuffle=True, collate_fn=collate_fn)"
   ]
  },
  {
   "cell_type": "code",
   "execution_count": 7,
   "id": "3d6525b8",
   "metadata": {
    "scrolled": false
   },
   "outputs": [
    {
     "name": "stderr",
     "output_type": "stream",
     "text": [
      "/root/research/T5-on-ToTTo/transformers/src/transformers/optimization.py:309: FutureWarning: This implementation of AdamW is deprecated and will be removed in a future version. Use the PyTorch implementation torch.optim.AdamW instead, or set `no_deprecation_warning=True` to disable this warning\n",
      "  FutureWarning,\n"
     ]
    },
    {
     "name": "stdout",
     "output_type": "stream",
     "text": [
      "epoch 1 step 1000 loss_train 0.9203\n",
      "epoch 1 step 2000 loss_train 0.9574\n",
      "epoch 1 step 3000 loss_train 1.0080\n",
      "epoch 1 step 4000 loss_train 0.9594\n",
      "epoch 1 step 5000 loss_train 1.0454\n",
      "epoch 2 step 6000 loss_train 0.9070\n",
      "epoch 2 step 7000 loss_train 0.8418\n",
      "epoch 2 step 8000 loss_train 0.7949\n",
      "epoch 2 step 9000 loss_train 0.8890\n",
      "epoch 2 step 10000 loss_train 0.7176\n",
      "epoch 3 step 11000 loss_train 0.7717\n",
      "epoch 3 step 12000 loss_train 0.7495\n",
      "epoch 3 step 13000 loss_train 0.7708\n",
      "epoch 3 step 14000 loss_train 0.7367\n",
      "epoch 3 step 15000 loss_train 0.6968\n"
     ]
    }
   ],
   "source": [
    "# Optim, Scheduler\n",
    "optimizer=AdamW(model.parameters(), lr=lr)\n",
    "scheduler=get_linear_schedule_with_warmup(\n",
    "    optimizer=optimizer,\n",
    "    num_warmup_steps=500,\n",
    "    num_training_steps=int(epochs*len(dataset_train)/(accumulation_steps*batch_size))\n",
    ")\n",
    "\n",
    "# TensorBoard: Logging\n",
    "writer=SummaryWriter()\n",
    "step_global=0\n",
    "\n",
    "for epoch in range(epochs):\n",
    "    # Train Phase\n",
    "    model.train()\n",
    "    model.to(device)\n",
    "    \n",
    "    loss_train=0\n",
    "    optimizer.zero_grad()\n",
    "    \n",
    "    for step, (data, attn_mask, label) in enumerate(dataloader_train):\n",
    "        data=data.to(device)\n",
    "        attn_mask=attn_mask.to(device)\n",
    "        label=label.to(device)\n",
    "        \n",
    "        outputs=model(input_ids=data, attention_mask=attn_mask, labels=label)\n",
    "        \n",
    "        loss=outputs[0]/accumulation_steps\n",
    "        loss.backward()\n",
    "        \n",
    "        loss_train+=loss.item()\n",
    "        \n",
    "        if (step+1)%accumulation_steps==0:\n",
    "            step_global+=1\n",
    "            \n",
    "            # TensorBoard\n",
    "            writer.add_scalar(\n",
    "                f'loss_train/T5_Finetuned_on_ToTTo(Subtable)_batch{int(accumulation_steps*batch_size)}_epoch{epochs}_lr{lr}',\n",
    "                loss_train,\n",
    "                step_global\n",
    "            )\n",
    "            # Console\n",
    "            if step_global%1000==0:\n",
    "                print(f'epoch {epoch+1} step {step_global} loss_train {loss_train:.4f}')\n",
    "            # Set Loss to 0\n",
    "            loss_train=0\n",
    "            \n",
    "            optimizer.step()\n",
    "            scheduler.step()\n",
    "            \n",
    "            optimizer.zero_grad()\n",
    "            \n",
    "    # Save Model\n",
    "    model.to(torch.device('cpu'))\n",
    "    torch.save(model, f'../model/T5_Finetuned_on_ToTTo(Subtable)_batch{int(accumulation_steps*batch_size)}_epoch{epoch+1}of{epochs}_lr{lr}.pt')"
   ]
  },
  {
   "cell_type": "code",
   "execution_count": null,
   "id": "c0d8cb23",
   "metadata": {},
   "outputs": [],
   "source": []
  }
 ],
 "metadata": {
  "kernelspec": {
   "display_name": "Python 3 (ipykernel)",
   "language": "python",
   "name": "python3"
  },
  "language_info": {
   "codemirror_mode": {
    "name": "ipython",
    "version": 3
   },
   "file_extension": ".py",
   "mimetype": "text/x-python",
   "name": "python",
   "nbconvert_exporter": "python",
   "pygments_lexer": "ipython3",
   "version": "3.7.11"
  }
 },
 "nbformat": 4,
 "nbformat_minor": 5
}
