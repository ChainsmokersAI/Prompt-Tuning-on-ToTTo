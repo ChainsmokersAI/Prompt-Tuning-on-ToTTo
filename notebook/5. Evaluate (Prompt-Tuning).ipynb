{
 "cells": [
  {
   "cell_type": "code",
   "execution_count": 1,
   "id": "519a7428",
   "metadata": {},
   "outputs": [],
   "source": [
    "import json\n",
    "\n",
    "import torch\n",
    "import torch.nn as nn\n",
    "from torch.utils.data import Dataset, DataLoader\n",
    "\n",
    "from transformers import T5Tokenizer, T5ForConditionalGeneration\n",
    "\n",
    "from preprocess_utils import get_highlighted_subtable, linearize_subtable"
   ]
  },
  {
   "cell_type": "code",
   "execution_count": 2,
   "id": "7dd675dc",
   "metadata": {},
   "outputs": [],
   "source": [
    "device=torch.device('cuda:0')\n",
    "batch_size=8"
   ]
  },
  {
   "cell_type": "code",
   "execution_count": 3,
   "id": "22638620",
   "metadata": {},
   "outputs": [
    {
     "data": {
      "text/plain": [
       "Embedding(32112, 1024)"
      ]
     },
     "execution_count": 3,
     "metadata": {},
     "output_type": "execute_result"
    }
   ],
   "source": [
    "# Pre-Trained T5 Tokenizer\n",
    "tokenizer=T5Tokenizer.from_pretrained('t5-large')\n",
    "# Add Special Tokens: Table Tags\n",
    "tokenizer.add_special_tokens({\n",
    "    'additional_special_tokens': [\n",
    "        '<page_title>',\n",
    "        '</page_title>',\n",
    "        '<section_title>',\n",
    "        '</section_title>',\n",
    "        '<table>',\n",
    "        '</table>',\n",
    "        '<cell>',\n",
    "        '</cell>',\n",
    "        '<col_header>',\n",
    "        '</col_header>',\n",
    "        '<row_header>',\n",
    "        '</row_header>'\n",
    "    ]\n",
    "})\n",
    "# Pre-Trained T5 Model\n",
    "pretrained=T5ForConditionalGeneration.from_pretrained('t5-large').to(device)\n",
    "# Resize PLM's Embedding Layer\n",
    "pretrained.resize_token_embeddings(len(tokenizer))"
   ]
  },
  {
   "cell_type": "code",
   "execution_count": 4,
   "id": "001bb2ad",
   "metadata": {},
   "outputs": [],
   "source": [
    "class ToTToDataset(Dataset):\n",
    "    \"\"\"\n",
    "    For Evaluation (Dev Set)\n",
    "    \"\"\"\n",
    "    def __init__(self, path_data, tokenizer):\n",
    "        #\n",
    "        self.data=[]\n",
    "        \n",
    "        # Load Dataset\n",
    "        with open(path_data, 'r') as f:\n",
    "            dataset=f.read().splitlines()\n",
    "            f.close()\n",
    "            \n",
    "        for _data in dataset:\n",
    "            data=json.loads(_data)\n",
    "            \n",
    "            # Preprocess\n",
    "            subtable=get_highlighted_subtable(table=data['table'], cell_indices=data['highlighted_cells'], with_heuristic_headers=True)\n",
    "            cells_linearized=linearize_subtable(\n",
    "                subtable=subtable,\n",
    "                table_page_title=data['table_page_title'],\n",
    "                table_section_title=data['table_section_title']\n",
    "            )\n",
    "            \n",
    "            # Encode\n",
    "            encoded=tokenizer.encode(cells_linearized)\n",
    "            if len(encoded)>512:\n",
    "                # Truncate\n",
    "                encoded=encoded[:511]+[tokenizer.eos_token_id]\n",
    "            self.data.append(encoded)\n",
    "            \n",
    "        print(len(self.data), 'datas')\n",
    "        \n",
    "    def __getitem__(self, idx):\n",
    "        return self.data[idx]\n",
    "        \n",
    "    def __len__(self):\n",
    "        return len(self.data)"
   ]
  },
  {
   "cell_type": "code",
   "execution_count": 5,
   "id": "eaad3cef",
   "metadata": {},
   "outputs": [],
   "source": [
    "def collate_fn(batch):\n",
    "    \"\"\"\n",
    "    Same Sequence Length on Same Batch\n",
    "    \"\"\"\n",
    "    max_len_data=0\n",
    "    for data in batch:\n",
    "        if len(data)>max_len_data: max_len_data=len(data)\n",
    "            \n",
    "    datas=[]\n",
    "    attn_masks=[]\n",
    "    for data in batch:\n",
    "        data.extend([tokenizer.pad_token_id]*(max_len_data-len(data)))\n",
    "        datas.append(data)\n",
    "        \n",
    "        attn_mask=[int(e!=tokenizer.pad_token_id) for e in data]\n",
    "        attn_masks.append(attn_mask)\n",
    "        \n",
    "    return torch.tensor(datas), torch.tensor(attn_masks)"
   ]
  },
  {
   "cell_type": "code",
   "execution_count": 6,
   "id": "3654a4fb",
   "metadata": {},
   "outputs": [
    {
     "name": "stderr",
     "output_type": "stream",
     "text": [
      "Token indices sequence length is longer than the specified maximum sequence length for this model (1344 > 512). Running this sequence through the model will result in indexing errors\n"
     ]
    },
    {
     "name": "stdout",
     "output_type": "stream",
     "text": [
      "7700 datas\n"
     ]
    }
   ],
   "source": [
    "dataset_dev=ToTToDataset(path_data='../totto_data/totto_dev_data.jsonl', tokenizer=tokenizer)\n",
    "dataloader_dev=DataLoader(dataset_dev, batch_size=batch_size, shuffle=False, collate_fn=collate_fn)"
   ]
  },
  {
   "cell_type": "code",
   "execution_count": 7,
   "id": "d350ac67",
   "metadata": {},
   "outputs": [],
   "source": [
    "class PromptTuning(nn.Module):\n",
    "    \"\"\"\n",
    "    \"\"\"\n",
    "    def __init__(self, pretrained_config, prompt_len=20, hidden_dim=256):\n",
    "        super().__init__()\n",
    "        \n",
    "        # Config of Pre-Trained LM\n",
    "        self.pretrained_config=pretrained_config\n",
    "        \n",
    "        # torch.tensor([0, 1, 2, .. , prompt_len-1])\n",
    "        self.pre_prompt=torch.arange(prompt_len)\n",
    "        # Embedding\n",
    "        self.embd=nn.Embedding(num_embeddings=prompt_len, embedding_dim=pretrained_config.d_model)\n",
    "        # Reparameterization\n",
    "        self.reparam=nn.Sequential(\n",
    "            nn.Linear(pretrained_config.d_model, hidden_dim),\n",
    "            nn.Tanh(),\n",
    "            nn.Linear(hidden_dim, hidden_dim),\n",
    "            nn.Tanh(),\n",
    "            nn.Linear(hidden_dim, pretrained_config.d_model)\n",
    "        )\n",
    "        \n",
    "    def forward(self, batch_size, device):\n",
    "        # Shape: batch_size, prompt_len\n",
    "        prompt=self.pre_prompt.unsqueeze(0).expand(batch_size, -1).to(device)\n",
    "        # Shape: batch_size, prompt_len, d_model\n",
    "        prompt=self.embd(prompt)\n",
    "        # Shape: batch_size, prompt_len, d_model\n",
    "        prompt=self.reparam(prompt)\n",
    "        \n",
    "        return prompt"
   ]
  },
  {
   "cell_type": "code",
   "execution_count": 8,
   "id": "e8f82f7d",
   "metadata": {},
   "outputs": [
    {
     "name": "stdout",
     "output_type": "stream",
     "text": [
      "800 generated\n",
      "1600 generated\n",
      "2400 generated\n",
      "3200 generated\n",
      "4000 generated\n",
      "4800 generated\n",
      "5600 generated\n",
      "6400 generated\n",
      "7200 generated\n"
     ]
    }
   ],
   "source": [
    "# Trained Model\n",
    "model=torch.load('../model/T5_Prompt-Tuning_on_ToTTo(Subtable)_promptlen20_batch96_epoch3of3_lr0.3.pt')\n",
    "model=model.to(device)\n",
    "model.eval()\n",
    "\n",
    "# Generation\n",
    "f=open('../totto_data/generation_dev_prompt_tuning.txt', 'a')\n",
    "\n",
    "with torch.no_grad():\n",
    "    for idx, (data, attn_mask) in enumerate(dataloader_dev):\n",
    "        if (idx+1)%100==0: print(batch_size*(idx+1), 'generated')\n",
    "            \n",
    "        data=data.to(device)\n",
    "        attn_mask=attn_mask.to(device)\n",
    "        \n",
    "        # Get Prompt\n",
    "        prompt=model(batch_size=data.shape[0], device=device)\n",
    "        \n",
    "        # Beam Search\n",
    "        outputs=pretrained.generate(\n",
    "            data,\n",
    "            max_length=300,\n",
    "            num_beams=5,\n",
    "            early_stopping=True,\n",
    "            prompt=prompt\n",
    "        )\n",
    "        \n",
    "        for generation in tokenizer.batch_decode(outputs, skip_special_tokens=True):\n",
    "            f.write(generation+'\\n')\n",
    "            \n",
    "f.close()"
   ]
  },
  {
   "cell_type": "code",
   "execution_count": 9,
   "id": "337a7dce",
   "metadata": {},
   "outputs": [
    {
     "name": "stdout",
     "output_type": "stream",
     "text": [
      "Running with the following variables:\n",
      "PREDICTION_PATH   : ../totto_data/generation_dev_prompt_tuning.txt\n",
      "TARGET_PATH       : ../totto_data/totto_dev_data.jsonl \n",
      "BLEURT_CKPT       : unset \n",
      "OUTPUT_DIR        : temp\n",
      "MODE              : test\n",
      "Writing references.\n",
      "Writing tables in PARENT format.\n",
      "Preparing predictions.\n",
      "Writing predictions.\n",
      "Running detokenizers.\n",
      "======== EVALUATE OVERALL ========\n",
      "Computing BLEU (overall)\n",
      "BLEU+case.mixed+numrefs.3+smooth.exp+tok.13a+version.1.5.1 = 35.5 71.2/44.3/30.6/21.8 (BP = 0.932 ratio = 0.934 hyp_len = 120337 ref_len = 128780)\n",
      "Computing PARENT (overall)\n",
      "Evaluated 7700 examples.\n",
      "Precision = 79.36 Recall = 41.00 F-score = 49.33\n",
      "======== EVALUATE OVERLAP SUBSET ========\n",
      "Computing BLEU (overlap subset)\n",
      "BLEU+case.mixed+numrefs.3+smooth.exp+tok.13a+version.1.5.1 = 40.0 74.2/48.7/35.4/26.3 (BP = 0.933 ratio = 0.935 hyp_len = 58729 ref_len = 62783)\n",
      "Computing PARENT (overlap subset)\n",
      "Evaluated 3784 examples.\n",
      "Precision = 80.96 Recall = 43.72 F-score = 52.18\n",
      "======== EVALUATE NON-OVERLAP SUBSET ========\n",
      "Computing BLEU (non-overlap subset)\n",
      "BLEU+case.mixed+numrefs.3+smooth.exp+tok.13a+version.1.5.1 = 31.1 68.3/40.1/26.0/17.5 (BP = 0.931 ratio = 0.933 hyp_len = 61608 ref_len = 65997)\n",
      "Computing PARENT (non-overlap subset)\n",
      "Evaluated 3916 examples.\n",
      "Precision = 77.82 Recall = 38.36 F-score = 46.58\n"
     ]
    }
   ],
   "source": [
    "# Evaluation\n",
    "!cd ../language_repo/ && bash language/totto/totto_eval.sh --prediction_path ../totto_data/generation_dev_prompt_tuning.txt --target_path ../totto_data/totto_dev_data.jsonl"
   ]
  },
  {
   "cell_type": "code",
   "execution_count": null,
   "id": "acae6fb7",
   "metadata": {},
   "outputs": [],
   "source": []
  }
 ],
 "metadata": {
  "kernelspec": {
   "display_name": "Python 3 (ipykernel)",
   "language": "python",
   "name": "python3"
  },
  "language_info": {
   "codemirror_mode": {
    "name": "ipython",
    "version": 3
   },
   "file_extension": ".py",
   "mimetype": "text/x-python",
   "name": "python",
   "nbconvert_exporter": "python",
   "pygments_lexer": "ipython3",
   "version": "3.7.11"
  }
 },
 "nbformat": 4,
 "nbformat_minor": 5
}
